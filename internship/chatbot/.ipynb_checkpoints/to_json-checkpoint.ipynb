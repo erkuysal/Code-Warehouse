{
 "cells": [
  {
   "cell_type": "code",
   "execution_count": 1,
   "id": "49d27dfa-9216-4ca1-96f5-05984abb440f",
   "metadata": {},
   "outputs": [],
   "source": [
    "import json\n",
    "\n",
    "intents = {\n",
    "    \"greetings\": {\n",
    "        \"patterns\": [\"hello\", \"hi\", \"good morning\", \"good evening\", \"hey\"],\n",
    "        \"responses\": [\"Hello!\", \"Hi there!\", \"Good day!\", \"Hello! How can I assist you today?\"]\n",
    "    },\n",
    "    \"product_info\": {\n",
    "        \"patterns\": [\"Tell me about [Product]\", \"What are the features of [Product]?\", \"Give me information on [Product]\"],\n",
    "        \"responses\": [\"[Product] is an excellent choice. It has features like...\"]\n",
    "    },\n",
    "    \"complaint\": {\n",
    "        \"patterns\": [\"I have a complaint\", \"I want to report an issue\", \"There is a problem with my order\"],\n",
    "        \"responses\": [\"I'm sorry to hear that. Can you please provide more details?\", \"We apologize for the inconvenience. Please describe the issue.\"]\n",
    "    }\n",
    "}\n",
    "\n",
    "with open('intents.json', 'w') as json_file:\n",
    "    json.dump(intents, json_file, indent=4)"
   ]
  },
  {
   "cell_type": "code",
   "execution_count": null,
   "id": "ace22917-f25f-4a5f-9b9f-b54f66a31d33",
   "metadata": {},
   "outputs": [],
   "source": []
  }
 ],
 "metadata": {
  "kernelspec": {
   "display_name": "Python 3 (ipykernel)",
   "language": "python",
   "name": "python3"
  },
  "language_info": {
   "codemirror_mode": {
    "name": "ipython",
    "version": 3
   },
   "file_extension": ".py",
   "mimetype": "text/x-python",
   "name": "python",
   "nbconvert_exporter": "python",
   "pygments_lexer": "ipython3",
   "version": "3.12.4"
  }
 },
 "nbformat": 4,
 "nbformat_minor": 5
}
