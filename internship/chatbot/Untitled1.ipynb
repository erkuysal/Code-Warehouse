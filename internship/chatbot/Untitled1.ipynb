{
 "cells": [
  {
   "cell_type": "code",
   "execution_count": 5,
   "id": "03fadcec-ef3f-4079-880b-440e808c0fe4",
   "metadata": {},
   "outputs": [],
   "source": [
    "import requests\n",
    "from bs4 import BeautifulSoup"
   ]
  },
  {
   "cell_type": "code",
   "execution_count": 7,
   "id": "795ae2e9-6a48-4b9c-961d-92cdd19af51f",
   "metadata": {},
   "outputs": [],
   "source": [
    "\n",
    "# URL of IMDb Top 250 Movies\n",
    "url = 'https://www.imdb.com/chart/top/'\n",
    "\n",
    "# Set the User-Agent to make the request appear as though it's coming from a browser\n",
    "headers = {\n",
    "    'User-Agent': 'Mozilla/5.0 (Windows NT 10.0; Win64; x64) AppleWebKit/537.36 (KHTML, like Gecko) Chrome/115.0.0.0 Safari/537.36'\n",
    "}"
   ]
  },
  {
   "cell_type": "code",
   "execution_count": 9,
   "id": "07430e72-9ec5-4f6c-8cbb-ac794ebcaa81",
   "metadata": {},
   "outputs": [],
   "source": [
    "# Send a GET request to the URL with headers\n",
    "response = requests.get(url, headers=headers)\n",
    "response.raise_for_status()  # Check if the request was successful"
   ]
  },
  {
   "cell_type": "code",
   "execution_count": 23,
   "id": "762c905f-8c7a-4cfa-9d08-6c6d17b21b06",
   "metadata": {},
   "outputs": [
    {
     "data": {
      "text/plain": [
       "<Response [200]>"
      ]
     },
     "execution_count": 23,
     "metadata": {},
     "output_type": "execute_result"
    }
   ],
   "source": [
    "response"
   ]
  },
  {
   "cell_type": "code",
   "execution_count": 17,
   "id": "a5f7f672-fc01-419f-8d2a-9518e57ee843",
   "metadata": {},
   "outputs": [],
   "source": [
    "# Parse the HTML content using BeautifulSoup\n",
    "soup = BeautifulSoup(response.text, 'html.parser')\n",
    "\n",
    "# Find the table containing the top movies\n",
    "movie_table = soup.find('tbody', class_='lister-list')"
   ]
  },
  {
   "cell_type": "code",
   "execution_count": 25,
   "id": "21b0bc0a-e00c-4acd-af88-bf00ed8d9fb1",
   "metadata": {},
   "outputs": [
    {
     "name": "stdout",
     "output_type": "stream",
     "text": [
      "None\n"
     ]
    }
   ],
   "source": [
    "movie_table = soup.find('tbody', class_='lister-list')\n",
    "print(movie_table)  # Check if this returns None"
   ]
  },
  {
   "cell_type": "code",
   "execution_count": 27,
   "id": "7990cfce-dba5-4109-b5e1-455a09fd4242",
   "metadata": {},
   "outputs": [],
   "source": [
    "movie_items = soup.find_all('li', class_='ipc-metadata-list-summary-item')[:10]"
   ]
  },
  {
   "cell_type": "code",
   "execution_count": 29,
   "id": "7efa3230-fea1-4f6e-983a-d77b1dd3339f",
   "metadata": {},
   "outputs": [
    {
     "name": "stdout",
     "output_type": "stream",
     "text": [
      "1. 1. The Shawshank Redemption (1994) - Rating: 9.3\n",
      "2. 2. The Godfather (1972) - Rating: 9.2\n",
      "3. 3. The Dark Knight (2008) - Rating: 9.0\n",
      "4. 4. The Godfather Part II (1974) - Rating: 9.0\n",
      "5. 5. 12 Angry Men (1957) - Rating: 9.0\n",
      "6. 6. Schindler's List (1993) - Rating: 9.0\n",
      "7. 7. The Lord of the Rings: The Return of the King (2003) - Rating: 9.0\n",
      "8. 8. Pulp Fiction (1994) - Rating: 8.9\n",
      "9. 9. The Lord of the Rings: The Fellowship of the Ring (2001) - Rating: 8.9\n",
      "10. 10. Il buono, il brutto, il cattivo (1966) - Rating: 8.8\n"
     ]
    }
   ],
   "source": [
    "# Extract the top 10 movies\n",
    "top_10_movies = []\n",
    "for movie in movie_items:\n",
    "    title = movie.find('h3', class_='ipc-title__text').text.strip()\n",
    "    year = movie.find('span', class_='sc-b189961a-8 hCbzGp cli-title-metadata-item').text.strip()\n",
    "    rating = movie.find('span', class_='ipc-rating-star--rating').text.strip()\n",
    "    top_10_movies.append({\n",
    "        'title': title,\n",
    "        'year': year,\n",
    "        'rating': rating\n",
    "    })\n",
    "\n",
    "# Print the top 10 movies\n",
    "for idx, movie in enumerate(top_10_movies, 1):\n",
    "    print(f\"{idx}. {movie['title']} ({movie['year']}) - Rating: {movie['rating']}\")"
   ]
  },
  {
   "cell_type": "code",
   "execution_count": null,
   "id": "f1520f51-d116-4af5-b38a-90470b251c8f",
   "metadata": {},
   "outputs": [],
   "source": [
    "    §"
   ]
  }
 ],
 "metadata": {
  "kernelspec": {
   "display_name": "Python 3 (ipykernel)",
   "language": "python",
   "name": "python3"
  },
  "language_info": {
   "codemirror_mode": {
    "name": "ipython",
    "version": 3
   },
   "file_extension": ".py",
   "mimetype": "text/x-python",
   "name": "python",
   "nbconvert_exporter": "python",
   "pygments_lexer": "ipython3",
   "version": "3.11.5"
  }
 },
 "nbformat": 4,
 "nbformat_minor": 5
}
